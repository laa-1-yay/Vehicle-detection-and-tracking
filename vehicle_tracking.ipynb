{
 "cells": [
  {
   "cell_type": "markdown",
   "metadata": {},
   "source": [
    "### The Project"
   ]
  },
  {
   "cell_type": "markdown",
   "metadata": {},
   "source": [
    "The Project\n",
    "The goals / steps of this project are the following:\n",
    "\n",
    "-Perform a Histogram of Oriented Gradients (HOG) feature extraction on a labeled training set of images and train a classifier Linear SVM classifier\n",
    "-Optionally, you can also apply a color transform and append binned color features, as well as histograms of color, to your HOG feature vector.\n",
    "-Note: for those first two steps don't forget to normalize your features and randomize a selection for training and testing.\n",
    "-Implement a sliding-window technique and use your trained classifier to search for vehicles in images.\n",
    "-Run your pipeline on a video stream (start with the test_video.mp4 and later implement on full project_video.mp4) and create a heat map of recurring detections frame by frame to reject outliers and follow detected vehicles.\n",
    "-Estimate a bounding box for vehicles detected."
   ]
  },
  {
   "cell_type": "code",
   "execution_count": null,
   "metadata": {},
   "outputs": [],
   "source": [
    "### Gather and combine all data for vehcile and non - vehicles"
   ]
  },
  {
   "cell_type": "code",
   "execution_count": null,
   "metadata": {},
   "outputs": [],
   "source": [
    "import os\n",
    "import glob\n",
    "\n",
    "base = './datasets/vehicles/'\n",
    "folders = os.listdir(base)\n",
    "\n",
    "cars = []\n",
    "for folder in folders:\n",
    "    cars.extend(glob.glob(base+folder+'/*'))\n",
    "\n",
    "base = './datasets/non-vehicles/'\n",
    "folders = os.listdir(base)\n",
    "\n",
    "notcars = []\n",
    "for folder in folders:\n",
    "    notcars.extend(glob.glob(base+folder+'/*'))\n",
    "    \n",
    "print(\"Number of Vehicle Images found: {}\".format(len(cars)))\n",
    "print(\"Number of Non-Vehicle Images found: {}\".format(len(notcars)))"
   ]
  }
 ],
 "metadata": {
  "kernelspec": {
   "display_name": "Python 3",
   "language": "python",
   "name": "python3"
  },
  "language_info": {
   "codemirror_mode": {
    "name": "ipython",
    "version": 3
   },
   "file_extension": ".py",
   "mimetype": "text/x-python",
   "name": "python",
   "nbconvert_exporter": "python",
   "pygments_lexer": "ipython3",
   "version": "3.5.2"
  },
  "widgets": {
   "state": {},
   "version": "1.1.2"
  }
 },
 "nbformat": 4,
 "nbformat_minor": 2
}
